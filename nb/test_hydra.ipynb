{
 "cells": [
  {
   "cell_type": "code",
   "execution_count": 15,
   "id": "7e2514c1-b635-466e-a2d2-657a2df8aab0",
   "metadata": {},
   "outputs": [],
   "source": [
    "import sys\n",
    "sys.path.append(\"../src/\")\n",
    "\n",
    "import numpy as np\n",
    "from utils import flatten_dict\n"
   ]
  },
  {
   "cell_type": "code",
   "execution_count": 2,
   "id": "2cc25a57-04cd-47da-b559-1da859b0d881",
   "metadata": {},
   "outputs": [],
   "source": [
    "import wandb\n",
    "import os\n",
    "from hydra import (\n",
    "    initialize, initialize_config_module, \n",
    "    initialize_config_dir, compose,\n",
    ")\n",
    "from hydra.utils import instantiate\n",
    "from omegaconf import OmegaConf\n",
    "\n",
    "\n",
    "if not OmegaConf.has_resolver(\"eval\"):\n",
    "    def resolver(x):\n",
    "        import numpy as np\n",
    "        return eval(x)\n",
    "    OmegaConf.register_new_resolver(\"eval\", resolver)\n",
    "\n"
   ]
  },
  {
   "cell_type": "code",
   "execution_count": 3,
   "id": "24123261-7ca9-4e79-aa56-73486f98f861",
   "metadata": {},
   "outputs": [],
   "source": [
    "def simulate_rounds(model, rewards, actions_hist, X_global, y_global, batch_st, batch_end):\n",
    "    np.random.seed(batch_st)\n",
    "    actions_this_batch = model.predict(X_global[batch_st:batch_end, :]).astype('uint8')\n",
    "    rewards.append(y_global[np.arange(batch_st, batch_end), actions_this_batch].sum())\n",
    "    new_actions_hist = np.append(actions_hist, actions_this_batch)\n",
    "    np.random.seed(batch_st)\n",
    "    model.fit(\n",
    "        X_global[:batch_end, :], \n",
    "        new_actions_hist, \n",
    "        y_global[np.arange(batch_end), new_actions_hist],\n",
    "    )\n",
    "    wandb.log(\n",
    "        {\n",
    "            \"reward\": y_global[np.arange(batch_st, batch_end), actions_this_batch].sum(),\n",
    "            \"regret\": (\n",
    "                y_global[np.arange(batch_st, batch_end),:].max(axis=1) \n",
    "                - \n",
    "                y_global[np.arange(batch_st, batch_end), actions_this_batch].flatten()\n",
    "            ).sum()\n",
    "        }\n",
    "    )\n",
    "    return new_actions_hist\n",
    "\n",
    "\n",
    "def run_model(model, X,y, cfg):\n",
    "    batch_size = cfg.batch_size\n",
    "    nchoices = y.shape[1]\n",
    "    rewards = []\n",
    "    first_batch = X[:batch_size, :]\n",
    "    np.random.seed(cfg.seed)\n",
    "    action_chosen = np.random.randint(nchoices, size=batch_size)\n",
    "    rewards_received = y[np.arange(batch_size), action_chosen]\n",
    "    actions = action_chosen.copy()\n",
    "    model.fit(X=first_batch, a=action_chosen, r=rewards_received)\n",
    "    for i in range(int(np.floor(X.shape[0] / batch_size))):\n",
    "        batch_st = (i + 1) * batch_size\n",
    "        batch_end = (i + 2) * batch_size\n",
    "        batch_end = np.min([batch_end, X.shape[0]])\n",
    "        actions = simulate_rounds(\n",
    "            model,\n",
    "            rewards,\n",
    "            actions,\n",
    "            X, \n",
    "            y,\n",
    "            batch_st, \n",
    "            batch_end\n",
    "        )\n",
    "        wandb.log({\"epoch\": i})\n",
    "        if cfg.debug and 3 < i: \n",
    "            break\n",
    "    return rewards\n"
   ]
  },
  {
   "cell_type": "code",
   "execution_count": 56,
   "id": "c4e8267f-a899-4c8b-8551-46e8e7ffad30",
   "metadata": {},
   "outputs": [
    {
     "data": {
      "text/html": [
       "Finishing last run (ID:7irzglho) before initializing another..."
      ],
      "text/plain": [
       "<IPython.core.display.HTML object>"
      ]
     },
     "metadata": {},
     "output_type": "display_data"
    },
    {
     "data": {
      "text/html": [
       "Waiting for W&B process to finish... <strong style=\"color:green\">(success).</strong>"
      ],
      "text/plain": [
       "<IPython.core.display.HTML object>"
      ]
     },
     "metadata": {},
     "output_type": "display_data"
    },
    {
     "data": {
      "text/html": [
       "<style>\n",
       "    table.wandb td:nth-child(1) { padding: 0 10px; text-align: left ; width: auto;} td:nth-child(2) {text-align: left ; width: 100%}\n",
       "    .wandb-row { display: flex; flex-direction: row; flex-wrap: wrap; justify-content: flex-start; width: 100% }\n",
       "    .wandb-col { display: flex; flex-direction: column; flex-basis: 100%; flex: 1; padding: 10px; }\n",
       "    </style>\n",
       "<div class=\"wandb-row\"><div class=\"wandb-col\"><h3>Run history:</h3><br/><table class=\"wandb\"><tr><td>epoch</td><td>▁▁▁▁▂▂▂▂▂▃▃▃▃▃▃▄▄▄▄▄▅▅▅▅▅▅▆▆▆▆▆▇▇▇▇▇▇███</td></tr><tr><td>regret</td><td>█▇▇▆█▆█▆▅▅▄▃▅▅▅▆▇▆▆▆▆▇▅▅▅▆▇▇▅█▆▆▇▆▅▇▆▅▅▁</td></tr><tr><td>reward</td><td>▂▃▂▄▂▄▁▄▅▅▇█▅▆▅▄▂▅▅▅▅▂▅▆▅▅▃▂▆▂▅▅▃▄▆▂▅▆▅█</td></tr></table><br/></div><div class=\"wandb-col\"><h3>Run summary:</h3><br/><table class=\"wandb\"><tr><td>epoch</td><td>72</td></tr><tr><td>regret</td><td>85</td></tr><tr><td>reward</td><td>10</td></tr></table><br/></div></div>"
      ],
      "text/plain": [
       "<IPython.core.display.HTML object>"
      ]
     },
     "metadata": {},
     "output_type": "display_data"
    },
    {
     "data": {
      "text/html": [
       " View run <strong style=\"color:#cdcd00\">eager-wood-5</strong> at: <a href='https://wandb.ai/roman-4erkasov-signup/rl-rairi-bandits/runs/7irzglho' target=\"_blank\">https://wandb.ai/roman-4erkasov-signup/rl-rairi-bandits/runs/7irzglho</a><br/>Synced 4 W&B file(s), 0 media file(s), 0 artifact file(s) and 0 other file(s)"
      ],
      "text/plain": [
       "<IPython.core.display.HTML object>"
      ]
     },
     "metadata": {},
     "output_type": "display_data"
    },
    {
     "data": {
      "text/html": [
       "Find logs at: <code>./wandb/run-20231220_200557-7irzglho/logs</code>"
      ],
      "text/plain": [
       "<IPython.core.display.HTML object>"
      ]
     },
     "metadata": {},
     "output_type": "display_data"
    },
    {
     "data": {
      "text/html": [
       "Successfully finished last run (ID:7irzglho). Initializing new run:<br/>"
      ],
      "text/plain": [
       "<IPython.core.display.HTML object>"
      ]
     },
     "metadata": {},
     "output_type": "display_data"
    },
    {
     "data": {
      "text/html": [
       "wandb version 0.16.1 is available!  To upgrade, please run:\n",
       " $ pip install wandb --upgrade"
      ],
      "text/plain": [
       "<IPython.core.display.HTML object>"
      ]
     },
     "metadata": {},
     "output_type": "display_data"
    },
    {
     "data": {
      "text/html": [
       "Tracking run with wandb version 0.13.11"
      ],
      "text/plain": [
       "<IPython.core.display.HTML object>"
      ]
     },
     "metadata": {},
     "output_type": "display_data"
    },
    {
     "data": {
      "text/html": [
       "Run data is saved locally in <code>/home/fatuus/rl-rairi/hw03/nb/wandb/run-20231220_213249-7oqq0n09</code>"
      ],
      "text/plain": [
       "<IPython.core.display.HTML object>"
      ]
     },
     "metadata": {},
     "output_type": "display_data"
    },
    {
     "data": {
      "text/html": [
       "Syncing run <strong><a href='https://wandb.ai/roman-4erkasov-signup/rl-rairi-bandits/runs/7oqq0n09' target=\"_blank\">whole-glitter-6</a></strong> to <a href='https://wandb.ai/roman-4erkasov-signup/rl-rairi-bandits' target=\"_blank\">Weights & Biases</a> (<a href='https://wandb.me/run' target=\"_blank\">docs</a>)<br/>"
      ],
      "text/plain": [
       "<IPython.core.display.HTML object>"
      ]
     },
     "metadata": {},
     "output_type": "display_data"
    },
    {
     "data": {
      "text/html": [
       " View project at <a href='https://wandb.ai/roman-4erkasov-signup/rl-rairi-bandits' target=\"_blank\">https://wandb.ai/roman-4erkasov-signup/rl-rairi-bandits</a>"
      ],
      "text/plain": [
       "<IPython.core.display.HTML object>"
      ]
     },
     "metadata": {},
     "output_type": "display_data"
    },
    {
     "data": {
      "text/html": [
       " View run at <a href='https://wandb.ai/roman-4erkasov-signup/rl-rairi-bandits/runs/7oqq0n09' target=\"_blank\">https://wandb.ai/roman-4erkasov-signup/rl-rairi-bandits/runs/7oqq0n09</a>"
      ],
      "text/plain": [
       "<IPython.core.display.HTML object>"
      ]
     },
     "metadata": {},
     "output_type": "display_data"
    }
   ],
   "source": [
    "with initialize(\n",
    "    version_base=None, \n",
    "    config_path=\"../conf/\", \n",
    "):\n",
    "    cfg = compose(\n",
    "        config_name=\"config.yaml\",\n",
    "        # return_hydra_config=True, \n",
    "        overrides=[\"+experiment=conf001\"]\n",
    "    )\n",
    "\n",
    "\n",
    "model = instantiate(cfg.model)\n",
    "parser = instantiate(cfg.parser)\n",
    "X,y = parser()\n",
    "flat_dict = flatten_dict(OmegaConf.to_container(cfg))\n",
    "run = wandb.init(project=\"rl-rairi-bandits\", config=flat_dict)\n",
    "reward = run_model(model, X,y, cfg)"
   ]
  },
  {
   "cell_type": "code",
   "execution_count": 57,
   "id": "6e11ef04-7381-44e0-85fc-d1e70cef50a2",
   "metadata": {},
   "outputs": [
    {
     "data": {
      "text/plain": [
       "((0.5, 4), 2)"
      ]
     },
     "execution_count": 57,
     "metadata": {},
     "output_type": "execute_result"
    }
   ],
   "source": [
    "cfg.model.beta_prior"
   ]
  },
  {
   "cell_type": "code",
   "execution_count": null,
   "id": "48cf89f4-f9f9-4eea-aa0c-0a552bdca736",
   "metadata": {},
   "outputs": [],
   "source": [
    "run_experiment()"
   ]
  },
  {
   "cell_type": "code",
   "execution_count": null,
   "id": "788e576f-e962-4e54-aff9-2bf420fb3c2c",
   "metadata": {},
   "outputs": [],
   "source": []
  }
 ],
 "metadata": {
  "kernelspec": {
   "display_name": "Python 3 (ipykernel)",
   "language": "python",
   "name": "python3"
  },
  "language_info": {
   "codemirror_mode": {
    "name": "ipython",
    "version": 3
   },
   "file_extension": ".py",
   "mimetype": "text/x-python",
   "name": "python",
   "nbconvert_exporter": "python",
   "pygments_lexer": "ipython3",
   "version": "3.8.18"
  }
 },
 "nbformat": 4,
 "nbformat_minor": 5
}
